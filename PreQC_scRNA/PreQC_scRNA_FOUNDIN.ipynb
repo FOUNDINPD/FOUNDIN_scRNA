{
 "cells": [
  {
   "cell_type": "code",
   "execution_count": null,
   "metadata": {},
   "outputs": [],
   "source": [
    "#Vikas Bansal\n",
    "#10 April 2020\n",
    "#This script is used to read the metric file from Cell Ranger and plot the heatmap (nUMI, nCells etc) for each sample"
   ]
  },
  {
   "cell_type": "code",
   "execution_count": 1,
   "metadata": {},
   "outputs": [
    {
     "name": "stderr",
     "output_type": "stream",
     "text": [
      "Loading required package: grid\n",
      "========================================\n",
      "ComplexHeatmap version 2.2.0\n",
      "Bioconductor page: http://bioconductor.org/packages/ComplexHeatmap/\n",
      "Github page: https://github.com/jokergoo/ComplexHeatmap\n",
      "Documentation: http://jokergoo.github.io/ComplexHeatmap-reference\n",
      "\n",
      "If you use it in published research, please cite:\n",
      "Gu, Z. Complex heatmaps reveal patterns and correlations in multidimensional \n",
      "  genomic data. Bioinformatics 2016.\n",
      "========================================\n",
      "\n"
     ]
    }
   ],
   "source": [
    "set.seed(7860)\n",
    ".libPaths( c( \"~/Rlib/\", .libPaths()) )\n",
    "library(readxl)\n",
    "library(stringi)\n",
    "library(ComplexHeatmap)"
   ]
  },
  {
   "cell_type": "code",
   "execution_count": 2,
   "metadata": {},
   "outputs": [],
   "source": [
    "\n",
    "#Path to metric files from cell ranger output \n",
    "Gene_results_file_names <- list.files(path=\"/home/vikas/QC_FOUNDIN/Metrics_Summary/\",recursive = T, full=T)\n",
    "\n"
   ]
  },
  {
   "cell_type": "code",
   "execution_count": 3,
   "metadata": {},
   "outputs": [],
   "source": [
    "#Read metric files from cell ranger output\n",
    "test_count <- read.csv(Gene_results_file_names[1], stringsAsFactors=F, header=T)\n",
    "rownames(test_count)[1] <- strsplit(unlist(lapply(strsplit(Gene_results_file_names[1],\"/\"),tail,3)),\"_count\")[[1]][1]\n",
    "ALL_WITH_COUNT <- test_count\n",
    "for (i in 2:length(Gene_results_file_names)){\n",
    "  #cat(\"loop\", i, \"\\n\")\n",
    "  \n",
    "  \n",
    "  test_count <- read.csv(Gene_results_file_names[i], stringsAsFactors=F, header=T)\n",
    "  \n",
    "  rownames(test_count)[1] <- strsplit(unlist(lapply(strsplit(Gene_results_file_names[i],\"/\"),tail,3)),\"_count\")[[1]][1]\n",
    "  ALL_WITH_COUNT <- rbind(ALL_WITH_COUNT,test_count)\n",
    "  \n",
    "}\n",
    "\n",
    "#Put % sign in column names to keep track which columns contain percentages\n",
    "colnames(ALL_WITH_COUNT)[(grep(\"%\",ALL_WITH_COUNT))] <- paste0(colnames(ALL_WITH_COUNT)[(grep(\"%\",ALL_WITH_COUNT))],\"%\")\n",
    "\n",
    "#Remove % and , from the whole data frame to convert them into numeric\n",
    "ALL_WITH_COUNT[] <- lapply(ALL_WITH_COUNT, gsub, pattern = \"%\", replacement = \"\", fixed = TRUE)\n",
    "ALL_WITH_COUNT[] <- lapply(ALL_WITH_COUNT, gsub, pattern = \",\", replacement = \"\", fixed = TRUE)"
   ]
  },
  {
   "cell_type": "code",
   "execution_count": 4,
   "metadata": {},
   "outputs": [],
   "source": [
    "#convert columns into numeric and save to new dataframe\n",
    "ALL_WITH_COUNTv2 <- sapply( ALL_WITH_COUNT, as.numeric )\n",
    "rownames(ALL_WITH_COUNTv2) <- rownames(ALL_WITH_COUNT)"
   ]
  },
  {
   "cell_type": "code",
   "execution_count": 5,
   "metadata": {},
   "outputs": [],
   "source": [
    "#Read metaInfo for samples to keep track of batches\n",
    "Petertable <- read_excel(\"Samples_names_codes_final_v.Cornelis.xlsx\", sheet = 1)\n",
    "Petertablev2 <- (as.data.frame(Petertable))\n",
    "Petertablev3 <- Petertablev2[grep(\"CDI\",Petertablev2[,\"Barcode_DZNE\"]),]\n",
    "\n",
    "\n",
    "Petertablev3$Barcode_last4 <- (stri_sub(Petertablev3$Barcode_DZNE,-4,-1))\n",
    "\n",
    "Petertablev3$SampleID <- (paste0(\"SCRN_PPMI\",Petertablev3$PPMI_ID, \"_\", Petertablev3$Barcode_last4,\"_da65\"))\n"
   ]
  },
  {
   "cell_type": "code",
   "execution_count": 6,
   "metadata": {},
   "outputs": [],
   "source": [
    "#Put annotation for multiple control samples (SCRN_PPMI3966_2813_da65). Also change the batch column\n",
    "Petertablev4 <- Petertablev3\n",
    "Petertablev4[c(nrow(Petertablev3)+1,nrow(Petertablev3)+2,nrow(Petertablev3)+3),] <- Petertablev3[grep(\"SCRN_PPMI3966_2813_da65\",Petertablev3$SampleID),]\n",
    "Petertablev4[c(nrow(Petertablev3)+1,nrow(Petertablev3)+2,nrow(Petertablev3)+3),\"SampleID\"] <- rownames(ALL_WITH_COUNTv2)[which(is.na(match(rownames(ALL_WITH_COUNTv2),Petertablev3$SampleID)))]\n",
    "Petertablev4[grep(\"SCRN_PPMI3966B3_2813_da65\",Petertablev4$SampleID),\"BATCH\"] <- 3\n",
    "Petertablev4[grep(\"SCRN_PPMI3966E6_2813_da65\",Petertablev4$SampleID),\"BATCH\"] <- 5\n",
    "Petertablev4[grep(\"SCRN_PPMI3966E8_2813_da65\",Petertablev4$SampleID),\"BATCH\"] <- 5\n"
   ]
  },
  {
   "cell_type": "code",
   "execution_count": 7,
   "metadata": {},
   "outputs": [],
   "source": [
    "#Creating metadata in same order to plot it over heatmap\n",
    "metaDataHeatmap <- Petertablev4[match(rownames(ALL_WITH_COUNTv2),Petertablev4$SampleID),]\n",
    "\n",
    "\n"
   ]
  },
  {
   "cell_type": "code",
   "execution_count": 8,
   "metadata": {},
   "outputs": [],
   "source": [
    "#Scaling the dataframe column wise, meaning for each variable (not sample wise)\n",
    "ALL_WITH_COUNTv2_scaled = t(scale(ALL_WITH_COUNTv2))"
   ]
  },
  {
   "cell_type": "code",
   "execution_count": 9,
   "metadata": {},
   "outputs": [],
   "source": [
    "#Creating upper annotation for heatmap\n",
    "ha = HeatmapAnnotation(Batch = as.factor(metaDataHeatmap$BATCH), \n",
    "    pheno = as.factor(metaDataHeatmap$pheno),\n",
    "    RECRUITMENT_CAT = metaDataHeatmap$RECRUITMENT_CAT,\n",
    "    genetic_sex = as.factor(metaDataHeatmap$genetic_sex),\n",
    "    mutation = metaDataHeatmap$mutation, col=list(Batch=c(\"1\"=\"Red\",\"2\"=\"Blue\",\"3\"=\"Grey\",\"4\"=\"Purple\",\"5\"=\"Black\"),\n",
    "                                                 pheno=c(\"-9\"='#0B5390FF',\"1\"='#708605FF',\"2\"='#089B17FF'),\n",
    "                                                 RECRUITMENT_CAT=c(\"GENPD\"='#F24C5CFF',\"GENUN\"='#55D5C0FF',\"HC\"='#E81BF8FF',\"PD\"='#A11FCEFF',\"PRODROMA\"='#51ED99FF'),\n",
    "                                                 genetic_sex=c(\"1\"='#4814C9FF',\"2\"='#EA6774FF'),\n",
    "                                                 mutation=c(\"GBA_N409S\"='#F166E7FF',\"LRRK2_Arg1441Gly\"='#08276FFF',\"LRRK2_G2019S\"='#8E7719FF',\"na\"='grey',\"SNCA_A53T\"='#515152FF'))\n",
    "\n",
    ")\n"
   ]
  },
  {
   "cell_type": "code",
   "execution_count": 10,
   "metadata": {},
   "outputs": [
    {
     "data": {
      "text/html": [
       "<strong>png:</strong> 2"
      ],
      "text/latex": [
       "\\textbf{png:} 2"
      ],
      "text/markdown": [
       "**png:** 2"
      ],
      "text/plain": [
       "png \n",
       "  2 "
      ]
     },
     "metadata": {},
     "output_type": "display_data"
    }
   ],
   "source": [
    "pdf(\"HeatmapNumberStats.pdf\", width=30, height=10)\n",
    "\n",
    "Heatmap(ALL_WITH_COUNTv2_scaled[c(1:3,19:20),], name = \"Z-score\", km = 1, top_annotation = ha, \n",
    "     show_row_names = TRUE, \n",
    "    show_column_names = TRUE, show_row_dend = FALSE, cluster_rows = FALSE, cluster_row_slices = FALSE)\n",
    "dev.off()"
   ]
  },
  {
   "cell_type": "code",
   "execution_count": 11,
   "metadata": {},
   "outputs": [
    {
     "data": {
      "text/html": [
       "<strong>png:</strong> 2"
      ],
      "text/latex": [
       "\\textbf{png:} 2"
      ],
      "text/markdown": [
       "**png:** 2"
      ],
      "text/plain": [
       "png \n",
       "  2 "
      ]
     },
     "metadata": {},
     "output_type": "display_data"
    }
   ],
   "source": [
    "pdf(\"HeatmapPercentStats.pdf\", width=30, height=10)\n",
    "\n",
    "Heatmap(ALL_WITH_COUNTv2_scaled[-c(1:3,19:20),], name = \"Z-score\", km = 1, top_annotation = ha, \n",
    "     show_row_names = TRUE, \n",
    "    show_column_names = TRUE, show_row_dend = FALSE, cluster_rows = FALSE, cluster_row_slices = FALSE)\n",
    "dev.off()"
   ]
  },
  {
   "cell_type": "code",
   "execution_count": 12,
   "metadata": {},
   "outputs": [
    {
     "data": {
      "text/plain": [
       "R version 3.6.1 (2019-07-05)\n",
       "Platform: x86_64-conda_cos6-linux-gnu (64-bit)\n",
       "Running under: Ubuntu 16.04.5 LTS\n",
       "\n",
       "Matrix products: default\n",
       "BLAS/LAPACK: /opt/anaconda3/lib/R/lib/libRblas.so\n",
       "\n",
       "locale:\n",
       " [1] LC_CTYPE=en_US.UTF-8       LC_NUMERIC=C              \n",
       " [3] LC_TIME=en_US.UTF-8        LC_COLLATE=en_US.UTF-8    \n",
       " [5] LC_MONETARY=en_US.UTF-8    LC_MESSAGES=en_US.UTF-8   \n",
       " [7] LC_PAPER=en_US.UTF-8       LC_NAME=C                 \n",
       " [9] LC_ADDRESS=C               LC_TELEPHONE=C            \n",
       "[11] LC_MEASUREMENT=en_US.UTF-8 LC_IDENTIFICATION=C       \n",
       "\n",
       "attached base packages:\n",
       "[1] grid      stats     graphics  grDevices utils     datasets  methods  \n",
       "[8] base     \n",
       "\n",
       "other attached packages:\n",
       "[1] ComplexHeatmap_2.2.0 stringi_1.4.3        readxl_1.3.1        \n",
       "\n",
       "loaded via a namespace (and not attached):\n",
       " [1] Rcpp_1.0.1          cluster_2.0.8       uuid_0.1-2         \n",
       " [4] colorspace_1.4-1    clue_0.3-57         rjson_0.2.20       \n",
       " [7] rlang_0.3.4         tools_3.6.1         parallel_3.6.1     \n",
       "[10] circlize_0.4.8      png_0.1-7           htmltools_0.3.6    \n",
       "[13] digest_0.6.18       tibble_2.1.1        crayon_1.3.4       \n",
       "[16] IRdisplay_0.7.0     RColorBrewer_1.1-2  repr_0.19.2        \n",
       "[19] base64enc_0.1-3     GlobalOptions_0.1.1 IRkernel_0.8.15    \n",
       "[22] shape_1.4.4         evaluate_0.13       pbdZMQ_0.3-3       \n",
       "[25] pillar_1.3.1        compiler_3.6.1      cellranger_1.1.0   \n",
       "[28] jsonlite_1.6        pkgconfig_2.0.2     GetoptLong_0.1.8   "
      ]
     },
     "metadata": {},
     "output_type": "display_data"
    }
   ],
   "source": [
    "sessionInfo()"
   ]
  },
  {
   "cell_type": "code",
   "execution_count": null,
   "metadata": {},
   "outputs": [],
   "source": []
  }
 ],
 "metadata": {
  "kernelspec": {
   "display_name": "R",
   "language": "R",
   "name": "ir"
  },
  "language_info": {
   "codemirror_mode": "r",
   "file_extension": ".r",
   "mimetype": "text/x-r-source",
   "name": "R",
   "pygments_lexer": "r",
   "version": "3.6.1"
  }
 },
 "nbformat": 4,
 "nbformat_minor": 4
}
